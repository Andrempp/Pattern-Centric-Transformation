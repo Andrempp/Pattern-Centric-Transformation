{
 "cells": [
  {
   "cell_type": "code",
   "execution_count": 1,
   "metadata": {},
   "outputs": [],
   "source": [
    "import os, sys\n",
    "import numpy as np\n",
    "\n",
    "module_path = os.path.abspath(os.path.join('../..'))\n",
    "if module_path not in sys.path:\n",
    "    sys.path.append(module_path)\n",
    "\n",
    "from packages.tcgahandler import LayerDataset\n",
    "\n",
    "from IPython.display import display\n",
    "import pandas as pd\n",
    "\n",
    "\n",
    "pd.options.mode.chained_assignment = None  # default='warn'\n",
    "DATA_DIR = \"../../data/\""
   ]
  },
  {
   "cell_type": "markdown",
   "metadata": {},
   "source": [
    "# TCGA-LGG"
   ]
  },
  {
   "cell_type": "code",
   "execution_count": 2,
   "metadata": {},
   "outputs": [],
   "source": [
    "project = \"TCGA-LGG\""
   ]
  },
  {
   "attachments": {},
   "cell_type": "markdown",
   "id": "ea4d2c3d",
   "metadata": {},
   "source": [
    "## Vital Status"
   ]
  },
  {
   "cell_type": "code",
   "execution_count": 3,
   "id": "cc537753",
   "metadata": {},
   "outputs": [],
   "source": [
    "target = \"vital_status\""
   ]
  },
  {
   "cell_type": "code",
   "execution_count": 4,
   "id": "59d34af6",
   "metadata": {},
   "outputs": [
    {
     "data": {
      "text/plain": [
       "submitter_id\n",
       "TCGA-WY-A859    Alive\n",
       "TCGA-DB-5279    Alive\n",
       "TCGA-HT-7855    Alive\n",
       "TCGA-QH-A6CW    Alive\n",
       "TCGA-DB-A64Q    Alive\n",
       "Name: vital_status, dtype: object"
      ]
     },
     "metadata": {},
     "output_type": "display_data"
    },
    {
     "data": {
      "text/plain": [
       "Alive           388\n",
       "Dead            126\n",
       "Not Reported      1\n",
       "NaN               1\n",
       "Name: vital_status, dtype: int64"
      ]
     },
     "metadata": {},
     "output_type": "display_data"
    }
   ],
   "source": [
    "dataset = LayerDataset(DATA_DIR, project)\n",
    "clinical_col = dataset.get_clinical_data()[target]\n",
    "display(clinical_col.head())\n",
    "display(clinical_col.value_counts(dropna=False))"
   ]
  },
  {
   "cell_type": "code",
   "execution_count": 5,
   "metadata": {
    "collapsed": false
   },
   "outputs": [
    {
     "name": "stdout",
     "output_type": "stream",
     "text": [
      "Created ../../data//TCGA-LGG/targets/drop_vital_status.json\n"
     ]
    }
   ],
   "source": [
    "to_drop = [\"Not Reported\", np.nan]\n",
    "dataset.set_clinical_to_drop(target, to_drop)"
   ]
  },
  {
   "cell_type": "code",
   "execution_count": 6,
   "metadata": {
    "collapsed": false
   },
   "outputs": [
    {
     "name": "stdout",
     "output_type": "stream",
     "text": [
      "No file with values to replace. Continuing.\n"
     ]
    },
    {
     "data": {
      "text/plain": [
       "0    385\n",
       "1    125\n",
       "Name: vital_status, dtype: int64"
      ]
     },
     "execution_count": 6,
     "metadata": {},
     "output_type": "execute_result"
    }
   ],
   "source": [
    "dataset = LayerDataset(DATA_DIR, project, 'mirna')\n",
    "d = dataset.get_data_with_target(\"rpm\", target)\n",
    "d[target].value_counts(dropna=False)"
   ]
  },
  {
   "cell_type": "markdown",
   "metadata": {},
   "source": [
    "# TCGA-COAD"
   ]
  },
  {
   "cell_type": "code",
   "execution_count": 7,
   "metadata": {},
   "outputs": [],
   "source": [
    "project = \"TCGA-COAD\""
   ]
  },
  {
   "attachments": {},
   "cell_type": "markdown",
   "id": "ea4d2c3d",
   "metadata": {},
   "source": [
    "## Vital Status"
   ]
  },
  {
   "cell_type": "code",
   "execution_count": 8,
   "id": "cc537753",
   "metadata": {},
   "outputs": [],
   "source": [
    "target = \"vital_status\""
   ]
  },
  {
   "cell_type": "code",
   "execution_count": 9,
   "id": "59d34af6",
   "metadata": {},
   "outputs": [
    {
     "data": {
      "text/plain": [
       "submitter_id\n",
       "TCGA-A6-6141    Alive\n",
       "TCGA-CM-6678    Alive\n",
       "TCGA-D5-6922    Alive\n",
       "TCGA-CM-5341    Alive\n",
       "TCGA-DM-A0X9    Alive\n",
       "Name: vital_status, dtype: object"
      ]
     },
     "metadata": {},
     "output_type": "display_data"
    },
    {
     "data": {
      "text/plain": [
       "Alive    357\n",
       "Dead     102\n",
       "NaN        2\n",
       "Name: vital_status, dtype: int64"
      ]
     },
     "metadata": {},
     "output_type": "display_data"
    }
   ],
   "source": [
    "dataset = LayerDataset(DATA_DIR, project)\n",
    "clinical_col = dataset.get_clinical_data()[target]\n",
    "display(clinical_col.head())\n",
    "display(clinical_col.value_counts(dropna=False))"
   ]
  },
  {
   "cell_type": "code",
   "execution_count": 10,
   "id": "25698e20",
   "metadata": {
    "collapsed": false
   },
   "outputs": [
    {
     "name": "stdout",
     "output_type": "stream",
     "text": [
      "Created ../../data//TCGA-COAD/targets/drop_vital_status.json\n"
     ]
    }
   ],
   "source": [
    "to_drop = [np.nan]\n",
    "dataset.set_clinical_to_drop(target, to_drop)"
   ]
  },
  {
   "cell_type": "code",
   "execution_count": 11,
   "id": "876530f4",
   "metadata": {
    "collapsed": false
   },
   "outputs": [
    {
     "name": "stdout",
     "output_type": "stream",
     "text": [
      "No file with values to replace. Continuing.\n"
     ]
    },
    {
     "data": {
      "text/plain": [
       "0    341\n",
       "1    101\n",
       "Name: vital_status, dtype: int64"
      ]
     },
     "execution_count": 11,
     "metadata": {},
     "output_type": "execute_result"
    }
   ],
   "source": [
    "dataset = LayerDataset(DATA_DIR, project, 'mirna')\n",
    "d = dataset.get_data_with_target(\"rpm\", target)\n",
    "d[target].value_counts(dropna=False)"
   ]
  }
 ],
 "metadata": {
  "kernelspec": {
   "display_name": "pattern_centric",
   "language": "python",
   "name": "python3"
  },
  "language_info": {
   "codemirror_mode": {
    "name": "ipython",
    "version": 3
   },
   "file_extension": ".py",
   "mimetype": "text/x-python",
   "name": "python",
   "nbconvert_exporter": "python",
   "pygments_lexer": "ipython3",
   "version": "3.11.3"
  },
  "orig_nbformat": 4,
  "vscode": {
   "interpreter": {
    "hash": "a7038e48d00a257423e5069e9953a698242f0a15856502769418e7bc553cbba5"
   }
  }
 },
 "nbformat": 4,
 "nbformat_minor": 2
}
