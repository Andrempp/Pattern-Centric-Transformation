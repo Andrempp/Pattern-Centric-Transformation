{
 "cells": [
  {
   "cell_type": "markdown",
   "metadata": {},
   "source": [
    "Necessary imports"
   ]
  },
  {
   "cell_type": "code",
   "execution_count": null,
   "metadata": {},
   "outputs": [],
   "source": [
    "import os, sys\n",
    "import pandas as pd\n",
    "\n",
    "module_path = os.path.abspath(os.path.join('../..'))\n",
    "if module_path not in sys.path:\n",
    "    sys.path.append(module_path)\n",
    "\n",
    "from packages.bicpy import bicpy\n",
    "from packages.mylib import myproject\n",
    "from packages.tcgahandler import LayerDataset\n",
    "from packages.pydge import pydge\n",
    "import statistics\n",
    "import seaborn as sns\n",
    "\n",
    "DATA_DIR = \"../../data/\""
   ]
  },
  {
   "cell_type": "markdown",
   "metadata": {},
   "source": [
    "Define necessary variables"
   ]
  },
  {
   "cell_type": "code",
   "execution_count": 2,
   "metadata": {},
   "outputs": [],
   "source": [
    "# rename dictionary just for aesthetic purposes\n",
    "rename_dict = {\n",
    "                \"logistic_regression\": \"Logistic Regression\", \n",
    "                \"random_forest\": \"Random Forest\",\n",
    "                \"svm\": \"Support Vector Machine\",\n",
    "                \"accuracy\": \"Accuracy\",\n",
    "                \"recall\": \"Recall\",\n",
    "                \"precision\": \"Precision\",\n",
    "                \"f1_score\": \"F1 Score\"\n",
    "                }\n",
    "\n",
    "# parameterization for biclustering algorithm\n",
    "# default parameters out of scope for this work\n",
    "default_param = {\n",
    "    'symmetries': False,\n",
    "    'normalization': \"column\",\n",
    "    'discretization': \"normal_distribution\",\n",
    "    'noise_relaxation': \"optional\",\n",
    "    'filling_criteria': \"remove\",\n",
    "    'pattern_type': \"constant\",\n",
    "    'orientation': \"rows\",\n",
    "    'remove_percentage': 0.1, # with only 1 iter doesn't affect\n",
    "    'balancing': False,\n",
    "    \"to_posthandle\": True\n",
    "}\n",
    "# relevant parameters defined\n",
    "params = {\"min_biclusters\": 10, \"min_columns\": 3, \"min_lift\": 1.2, \"nr_iterations\": 10, \"nr_labels\": 11, }\n",
    "\n",
    "# evaluation parameters\n",
    "# classifiers to test\n",
    "classifier_list = ['logistic_regression', 'svm', 'random_forest']# DatasetEvaluator.available_classifiers()\n",
    "# metrics to use\n",
    "metric_list = ['accuracy', 'recall', 'precision', 'f1_score']\n",
    "# number of folds for cross-validation\n",
    "n_folds = 10\n",
    "# balancing and normalization\n",
    "balancing, normalization = True, True\n",
    "\n",
    "# parameters of transformation\n",
    "# filtering step\n",
    "filtering = \"q10\"\n",
    "filter_by = \"lift\"\n",
    "# distance\n",
    "distance = \"norm_euclidean\"\n",
    "\n",
    "# outro\n",
    "pvalue = 1\n",
    "target = \"vital_status\""
   ]
  },
  {
   "cell_type": "markdown",
   "metadata": {},
   "source": [
    "Function to train and test classifiers"
   ]
  },
  {
   "cell_type": "code",
   "execution_count": 3,
   "metadata": {},
   "outputs": [],
   "source": [
    "def prediction_results(dataset, target, pvalue, classifier_list, metric_list, parameterization, normalization, \n",
    "                                    n_folds, filtering,  filter_by, balancing, distance=\"euclidean\", verbose=0):\n",
    "    \"\"\"Trains and tests classifiers in gene- and pattern-centric data, returns obtained results in defined metrics\n",
    "    \n",
    "    Parameters\n",
    "    ----------\n",
    "    dataset : tcgahandler.LayerDataset\n",
    "        Abstraction for data corresponding to a omics layer of a given TCGA project\n",
    "    target : str\n",
    "        Target variable for the prediction task\n",
    "    pvalue : float\n",
    "        p-value to use for DEG Analysis, if equal to 1 doesn't perform it \n",
    "    classifier_list : list of str\n",
    "        Classifiers to train and test\n",
    "    metric_list: list of str\n",
    "        Classification metrics used to evaluate the classifiers\n",
    "    parameterization: dict\n",
    "        Parameterization for the biclustering algorithm\n",
    "    normalization: bool\n",
    "        Flag to normalize data before classification\n",
    "    n_folds: int\n",
    "        Number of folds to use in the cross-validation\n",
    "    filtering: str\n",
    "        Type of filtering to apply in the pattern-based transformation\n",
    "    filter_by: str\n",
    "        Metric to filter by in the pattern-based transformation\n",
    "    balancing: bool\n",
    "        Flag to balance data before classification\n",
    "    distance: str\n",
    "        Distance used to calculate new values of pattern-centric data\n",
    "    verbose: int\n",
    "        Verbose flag\n",
    "    \n",
    "    Returns\n",
    "    --------\n",
    "    tuple(pandas.DataFrame, pd.DataFrame)\n",
    "        A DataFrame with the results for each combination of dataset, classifier, and metric, and a DataFrame with the average dimensionalities for each dataset \n",
    "\n",
    "    \"\"\"\n",
    "\n",
    "    # get pd.DataFrame with omics data and target variable\n",
    "    data = dataset.get_data_with_target(data_type='default', target=target)\n",
    "\n",
    "    if dataset.layer != 'protein':\n",
    "        #if it is miRNA or mRNA, log transform and filter\n",
    "        counts = dataset.get_data_with_target(data_type='counts', target=target)\n",
    "        filtered_genes = pydge.deg_filtering(counts, target, filter_only=True)\n",
    "        data = dataset.log_transform_data(data, target, data_type=\"default\")\n",
    "    else:\n",
    "        counts = None\n",
    "        filtered_genes = data.drop(columns=[target]).columns.tolist()\n",
    "\n",
    "    #\n",
    "    pattern_results = myproject.transform_and_evaluate_validation(parameterization, data[filtered_genes + [target]], target, classifier_list, metric_list,\n",
    "                                                                  normalization, n_folds, filtering, filter_by, balancing, distance,\n",
    "                                                                  verbose=verbose)\n",
    "    gene_results = myproject.evaluate_validation(data, counts, target, pvalue, classifier_list, metric_list, normalization, n_folds,\n",
    "                                                    balancing, verbose=verbose)\n",
    "\n",
    "    pattern_results['dataset'] = 'Pattern-based'\n",
    "    gene_results['dataset'] = 'Gene-based'\n",
    "\n",
    "    pattern_dimension = statistics.mean([shape[1]-1 for shape in pattern_results[\"shape\"]])\n",
    "    gene_dimension = statistics.mean([shape[1]-1 for shape in gene_results[\"shape\"]])\n",
    "    dimensionalities = pd.DataFrame( {\"dataset\": [\"Gene-based\", \"Pattern-based\"], \"dimensions\": [gene_dimension, pattern_dimension]} )\n",
    "    print(pattern_dimension, gene_dimension)\n",
    "\n",
    "    results = pd.concat([pattern_results, gene_results], ignore_index=True)\n",
    "    results = results.sort_values(by=['dataset', 'Metric'], ascending=True)\n",
    "    return results, dimensionalities"
   ]
  },
  {
   "cell_type": "markdown",
   "metadata": {},
   "source": [
    "## TCGA-LGG\n"
   ]
  },
  {
   "cell_type": "markdown",
   "metadata": {},
   "source": [
    "#### miRNA\n"
   ]
  },
  {
   "cell_type": "markdown",
   "metadata": {},
   "source": [
    "Obtain results"
   ]
  },
  {
   "cell_type": "code",
   "execution_count": 4,
   "metadata": {},
   "outputs": [
    {
     "name": "stdout",
     "output_type": "stream",
     "text": [
      "No file with values to replace. Continuing.\n",
      "No file with values to replace. Continuing.\n",
      "pre-transformation pattern data shape:  (510, 352)\n",
      "Pattern dimensions:  [27, 23, 26, 30, 26, 23, 21, 29, 24, 28] Mean:  25.7\n",
      "DGE dimensions:  [349, 352, 349, 351, 353, 349, 353, 353, 349, 351] Mean:  350.9\n",
      "24.7 350.9\n",
      "         dataset  dimensions\n",
      "0     Gene-based       350.9\n",
      "1  Pattern-based        24.7\n"
     ]
    }
   ],
   "source": [
    "project, layer = \"TCGA-LGG\", \"mirna\"\n",
    "# create LayerDataset for layer miRNA of project TCGA-LGG\n",
    "dataset = LayerDataset(DATA_DIR, project, layer)\n",
    "# set p-value to 1 so that there is no DEG filtering\n",
    "pvalue = 1\n",
    "\n",
    "parameterization = bicpy.add_default_parameterization(params, default_param)\n",
    "results, dimensionalities = prediction_results(dataset, target, pvalue, classifier_list, metric_list, parameterization, \n",
    "                                normalization, n_folds, filtering,  filter_by, balancing, \n",
    "                                'norm_euclidean', verbose=1)\n",
    "print(dimensionalities)"
   ]
  },
  {
   "cell_type": "markdown",
   "metadata": {},
   "source": [
    "Transform result table for display"
   ]
  },
  {
   "cell_type": "code",
   "execution_count": 5,
   "metadata": {},
   "outputs": [
    {
     "data": {
      "text/html": [
       "<div>\n",
       "<style scoped>\n",
       "    .dataframe tbody tr th:only-of-type {\n",
       "        vertical-align: middle;\n",
       "    }\n",
       "\n",
       "    .dataframe tbody tr th {\n",
       "        vertical-align: top;\n",
       "    }\n",
       "\n",
       "    .dataframe thead tr th {\n",
       "        text-align: left;\n",
       "    }\n",
       "\n",
       "    .dataframe thead tr:last-of-type th {\n",
       "        text-align: right;\n",
       "    }\n",
       "</style>\n",
       "<table border=\"1\" class=\"dataframe\">\n",
       "  <thead>\n",
       "    <tr>\n",
       "      <th>Metric</th>\n",
       "      <th colspan=\"2\" halign=\"left\">accuracy</th>\n",
       "      <th colspan=\"2\" halign=\"left\">recall</th>\n",
       "      <th colspan=\"2\" halign=\"left\">precision</th>\n",
       "      <th colspan=\"2\" halign=\"left\">f1_score</th>\n",
       "    </tr>\n",
       "    <tr>\n",
       "      <th>dataset</th>\n",
       "      <th>Gene-based</th>\n",
       "      <th>Pattern-based</th>\n",
       "      <th>Gene-based</th>\n",
       "      <th>Pattern-based</th>\n",
       "      <th>Gene-based</th>\n",
       "      <th>Pattern-based</th>\n",
       "      <th>Gene-based</th>\n",
       "      <th>Pattern-based</th>\n",
       "    </tr>\n",
       "    <tr>\n",
       "      <th>classifier</th>\n",
       "      <th></th>\n",
       "      <th></th>\n",
       "      <th></th>\n",
       "      <th></th>\n",
       "      <th></th>\n",
       "      <th></th>\n",
       "      <th></th>\n",
       "      <th></th>\n",
       "    </tr>\n",
       "  </thead>\n",
       "  <tbody>\n",
       "    <tr>\n",
       "      <th>logistic_regression</th>\n",
       "      <td>0.702+-0.049</td>\n",
       "      <td>0.788+-0.029</td>\n",
       "      <td>0.609+-0.068</td>\n",
       "      <td>0.614+-0.038</td>\n",
       "      <td>0.604+-0.067</td>\n",
       "      <td>0.749+-0.089</td>\n",
       "      <td>0.603+-0.067</td>\n",
       "      <td>0.627+-0.055</td>\n",
       "    </tr>\n",
       "    <tr>\n",
       "      <th>random_forest</th>\n",
       "      <td>0.782+-0.05</td>\n",
       "      <td>0.775+-0.044</td>\n",
       "      <td>0.601+-0.062</td>\n",
       "      <td>0.602+-0.061</td>\n",
       "      <td>0.723+-0.181</td>\n",
       "      <td>0.723+-0.134</td>\n",
       "      <td>0.608+-0.09</td>\n",
       "      <td>0.61+-0.079</td>\n",
       "    </tr>\n",
       "    <tr>\n",
       "      <th>svm</th>\n",
       "      <td>0.769+-0.039</td>\n",
       "      <td>0.778+-0.038</td>\n",
       "      <td>0.566+-0.046</td>\n",
       "      <td>0.586+-0.057</td>\n",
       "      <td>0.701+-0.18</td>\n",
       "      <td>0.717+-0.166</td>\n",
       "      <td>0.559+-0.069</td>\n",
       "      <td>0.585+-0.085</td>\n",
       "    </tr>\n",
       "  </tbody>\n",
       "</table>\n",
       "</div>"
      ],
      "text/plain": [
       "Metric                   accuracy                      recall                \\\n",
       "dataset                Gene-based Pattern-based    Gene-based Pattern-based   \n",
       "classifier                                                                    \n",
       "logistic_regression  0.702+-0.049  0.788+-0.029  0.609+-0.068  0.614+-0.038   \n",
       "random_forest         0.782+-0.05  0.775+-0.044  0.601+-0.062  0.602+-0.061   \n",
       "svm                  0.769+-0.039  0.778+-0.038  0.566+-0.046  0.586+-0.057   \n",
       "\n",
       "Metric                  precision                    f1_score                \n",
       "dataset                Gene-based Pattern-based    Gene-based Pattern-based  \n",
       "classifier                                                                   \n",
       "logistic_regression  0.604+-0.067  0.749+-0.089  0.603+-0.067  0.627+-0.055  \n",
       "random_forest        0.723+-0.181  0.723+-0.134   0.608+-0.09   0.61+-0.079  \n",
       "svm                   0.701+-0.18  0.717+-0.166  0.559+-0.069  0.585+-0.085  "
      ]
     },
     "metadata": {},
     "output_type": "display_data"
    }
   ],
   "source": [
    "results_show2 = results.drop(columns=[\"shape\"])\n",
    "results_show2 = results_show2.groupby(['dataset', 'classifier', 'Metric'], as_index=False).agg({'Score':['mean','std'],})\n",
    "results_show2.columns = ['_'.join(col) if col[1] !='' else col[0] for col in results_show2.columns]\n",
    "results_show2 = results_show2.round(decimals=3)\n",
    "results_show2[\"Score\"] = results_show2[\"Score_mean\"].astype(\"str\") + \"+-\" + results_show2[\"Score_std\"].astype(str)\n",
    "results_show2 = results_show2.drop(columns=[\"Score_mean\", \"Score_std\"])\n",
    "results_show2 = results_show2.pivot(index=['classifier'], columns=['Metric', 'dataset'], values='Score')\n",
    "results_show2 = results_show2[['accuracy', 'recall', 'precision', 'f1_score']]\n",
    "display(results_show2)"
   ]
  },
  {
   "attachments": {},
   "cell_type": "markdown",
   "metadata": {},
   "source": [
    "#### protein\n"
   ]
  },
  {
   "cell_type": "markdown",
   "metadata": {},
   "source": [
    "Obtain results"
   ]
  },
  {
   "cell_type": "code",
   "execution_count": 6,
   "metadata": {},
   "outputs": [
    {
     "name": "stdout",
     "output_type": "stream",
     "text": [
      "No file with values to replace. Continuing.\n",
      "pre-transformation pattern data shape:  (428, 457)\n",
      "Pattern dimensions:  [19, 34, 30, 30, 34, 28, 30, 23, 24, 38] Mean:  29.0\n",
      "28 456\n",
      "         dataset  dimensions\n",
      "0     Gene-based         456\n",
      "1  Pattern-based          28\n"
     ]
    }
   ],
   "source": [
    "project, layer = \"TCGA-LGG\", \"protein\"\n",
    "# create LayerDataset for layer miRNA of project TCGA-LGG\n",
    "dataset = LayerDataset(DATA_DIR, project, layer)\n",
    "# set p-value to 1 so that there is no DEG filtering\n",
    "pvalue = 1\n",
    "\n",
    "parameterization = bicpy.add_default_parameterization(params, default_param)\n",
    "results, dimensionalities = prediction_results(dataset, target, pvalue, classifier_list, metric_list, parameterization, \n",
    "                                normalization, n_folds, filtering,  filter_by, balancing, \n",
    "                                'norm_euclidean', verbose=1)\n",
    "print(dimensionalities)"
   ]
  },
  {
   "cell_type": "markdown",
   "metadata": {},
   "source": [
    "Transform result table for display"
   ]
  },
  {
   "cell_type": "code",
   "execution_count": 7,
   "metadata": {},
   "outputs": [
    {
     "data": {
      "text/html": [
       "<div>\n",
       "<style scoped>\n",
       "    .dataframe tbody tr th:only-of-type {\n",
       "        vertical-align: middle;\n",
       "    }\n",
       "\n",
       "    .dataframe tbody tr th {\n",
       "        vertical-align: top;\n",
       "    }\n",
       "\n",
       "    .dataframe thead tr th {\n",
       "        text-align: left;\n",
       "    }\n",
       "\n",
       "    .dataframe thead tr:last-of-type th {\n",
       "        text-align: right;\n",
       "    }\n",
       "</style>\n",
       "<table border=\"1\" class=\"dataframe\">\n",
       "  <thead>\n",
       "    <tr>\n",
       "      <th>Metric</th>\n",
       "      <th colspan=\"2\" halign=\"left\">accuracy</th>\n",
       "      <th colspan=\"2\" halign=\"left\">recall</th>\n",
       "      <th colspan=\"2\" halign=\"left\">precision</th>\n",
       "      <th colspan=\"2\" halign=\"left\">f1_score</th>\n",
       "    </tr>\n",
       "    <tr>\n",
       "      <th>dataset</th>\n",
       "      <th>Gene-based</th>\n",
       "      <th>Pattern-based</th>\n",
       "      <th>Gene-based</th>\n",
       "      <th>Pattern-based</th>\n",
       "      <th>Gene-based</th>\n",
       "      <th>Pattern-based</th>\n",
       "      <th>Gene-based</th>\n",
       "      <th>Pattern-based</th>\n",
       "    </tr>\n",
       "    <tr>\n",
       "      <th>classifier</th>\n",
       "      <th></th>\n",
       "      <th></th>\n",
       "      <th></th>\n",
       "      <th></th>\n",
       "      <th></th>\n",
       "      <th></th>\n",
       "      <th></th>\n",
       "      <th></th>\n",
       "    </tr>\n",
       "  </thead>\n",
       "  <tbody>\n",
       "    <tr>\n",
       "      <th>logistic_regression</th>\n",
       "      <td>0.745+-0.044</td>\n",
       "      <td>0.755+-0.022</td>\n",
       "      <td>0.633+-0.074</td>\n",
       "      <td>0.562+-0.04</td>\n",
       "      <td>0.636+-0.063</td>\n",
       "      <td>0.619+-0.127</td>\n",
       "      <td>0.632+-0.069</td>\n",
       "      <td>0.557+-0.06</td>\n",
       "    </tr>\n",
       "    <tr>\n",
       "      <th>random_forest</th>\n",
       "      <td>0.781+-0.034</td>\n",
       "      <td>0.799+-0.027</td>\n",
       "      <td>0.579+-0.064</td>\n",
       "      <td>0.622+-0.038</td>\n",
       "      <td>0.691+-0.157</td>\n",
       "      <td>0.745+-0.08</td>\n",
       "      <td>0.578+-0.088</td>\n",
       "      <td>0.638+-0.051</td>\n",
       "    </tr>\n",
       "    <tr>\n",
       "      <th>svm</th>\n",
       "      <td>0.778+-0.031</td>\n",
       "      <td>0.799+-0.03</td>\n",
       "      <td>0.556+-0.063</td>\n",
       "      <td>0.612+-0.054</td>\n",
       "      <td>0.641+-0.215</td>\n",
       "      <td>0.723+-0.154</td>\n",
       "      <td>0.539+-0.097</td>\n",
       "      <td>0.622+-0.082</td>\n",
       "    </tr>\n",
       "  </tbody>\n",
       "</table>\n",
       "</div>"
      ],
      "text/plain": [
       "Metric                   accuracy                      recall                \\\n",
       "dataset                Gene-based Pattern-based    Gene-based Pattern-based   \n",
       "classifier                                                                    \n",
       "logistic_regression  0.745+-0.044  0.755+-0.022  0.633+-0.074   0.562+-0.04   \n",
       "random_forest        0.781+-0.034  0.799+-0.027  0.579+-0.064  0.622+-0.038   \n",
       "svm                  0.778+-0.031   0.799+-0.03  0.556+-0.063  0.612+-0.054   \n",
       "\n",
       "Metric                  precision                    f1_score                \n",
       "dataset                Gene-based Pattern-based    Gene-based Pattern-based  \n",
       "classifier                                                                   \n",
       "logistic_regression  0.636+-0.063  0.619+-0.127  0.632+-0.069   0.557+-0.06  \n",
       "random_forest        0.691+-0.157   0.745+-0.08  0.578+-0.088  0.638+-0.051  \n",
       "svm                  0.641+-0.215  0.723+-0.154  0.539+-0.097  0.622+-0.082  "
      ]
     },
     "metadata": {},
     "output_type": "display_data"
    }
   ],
   "source": [
    "results_show2 = results.drop(columns=[\"shape\"])\n",
    "results_show2 = results_show2.groupby(['dataset', 'classifier', 'Metric'], as_index=False).agg({'Score':['mean','std'],})\n",
    "results_show2.columns = ['_'.join(col) if col[1] !='' else col[0] for col in results_show2.columns]\n",
    "results_show2 = results_show2.round(decimals=3)\n",
    "results_show2[\"Score\"] = results_show2[\"Score_mean\"].astype(\"str\") + \"+-\" + results_show2[\"Score_std\"].astype(str)\n",
    "results_show2 = results_show2.drop(columns=[\"Score_mean\", \"Score_std\"])\n",
    "results_show2 = results_show2.pivot(index=['classifier'], columns=['Metric', 'dataset'], values='Score')\n",
    "results_show2 = results_show2[['accuracy', 'recall', 'precision', 'f1_score']]\n",
    "display(results_show2)"
   ]
  },
  {
   "attachments": {},
   "cell_type": "markdown",
   "metadata": {},
   "source": [
    "#### mRNA\n"
   ]
  },
  {
   "cell_type": "markdown",
   "metadata": {},
   "source": [
    "Obtain results"
   ]
  },
  {
   "cell_type": "code",
   "execution_count": 8,
   "metadata": {},
   "outputs": [
    {
     "name": "stdout",
     "output_type": "stream",
     "text": [
      "No file with values to replace. Continuing.\n",
      "No file with values to replace. Continuing.\n",
      "pre-transformation pattern data shape:  (514, 24027)\n",
      "Pattern dimensions:  [19, 20, 26, 34, 29, 22, 24, 74, 23, 27] Mean:  29.8\n",
      "DGE dimensions:  [12737, 11993, 11759, 12077, 12055, 12370, 12660, 11939, 12149, 11668] Mean:  12140.7\n",
      "28.8 12140.7\n",
      "         dataset  dimensions\n",
      "0     Gene-based     12140.7\n",
      "1  Pattern-based        28.8\n"
     ]
    }
   ],
   "source": [
    "project, layer = \"TCGA-LGG\", \"mrna\"\n",
    "# create LayerDataset for layer miRNA of project TCGA-LGG\n",
    "dataset = LayerDataset(DATA_DIR, project, layer)\n",
    "# set p-value to 1 so that there is no DEG filtering\n",
    "pvalue = 0.05\n",
    "\n",
    "parameterization = bicpy.add_default_parameterization(params, default_param)\n",
    "results, dimensionalities = prediction_results(dataset, target, pvalue, classifier_list, metric_list, parameterization, \n",
    "                                normalization, n_folds, filtering,  filter_by, balancing, \n",
    "                                'norm_euclidean', verbose=1)\n",
    "print(dimensionalities)"
   ]
  },
  {
   "cell_type": "markdown",
   "metadata": {},
   "source": [
    "Transform result table for display"
   ]
  },
  {
   "cell_type": "code",
   "execution_count": 9,
   "metadata": {},
   "outputs": [
    {
     "data": {
      "text/html": [
       "<div>\n",
       "<style scoped>\n",
       "    .dataframe tbody tr th:only-of-type {\n",
       "        vertical-align: middle;\n",
       "    }\n",
       "\n",
       "    .dataframe tbody tr th {\n",
       "        vertical-align: top;\n",
       "    }\n",
       "\n",
       "    .dataframe thead tr th {\n",
       "        text-align: left;\n",
       "    }\n",
       "\n",
       "    .dataframe thead tr:last-of-type th {\n",
       "        text-align: right;\n",
       "    }\n",
       "</style>\n",
       "<table border=\"1\" class=\"dataframe\">\n",
       "  <thead>\n",
       "    <tr>\n",
       "      <th>Metric</th>\n",
       "      <th colspan=\"2\" halign=\"left\">accuracy</th>\n",
       "      <th colspan=\"2\" halign=\"left\">recall</th>\n",
       "      <th colspan=\"2\" halign=\"left\">precision</th>\n",
       "      <th colspan=\"2\" halign=\"left\">f1_score</th>\n",
       "    </tr>\n",
       "    <tr>\n",
       "      <th>dataset</th>\n",
       "      <th>Gene-based</th>\n",
       "      <th>Pattern-based</th>\n",
       "      <th>Gene-based</th>\n",
       "      <th>Pattern-based</th>\n",
       "      <th>Gene-based</th>\n",
       "      <th>Pattern-based</th>\n",
       "      <th>Gene-based</th>\n",
       "      <th>Pattern-based</th>\n",
       "    </tr>\n",
       "    <tr>\n",
       "      <th>classifier</th>\n",
       "      <th></th>\n",
       "      <th></th>\n",
       "      <th></th>\n",
       "      <th></th>\n",
       "      <th></th>\n",
       "      <th></th>\n",
       "      <th></th>\n",
       "      <th></th>\n",
       "    </tr>\n",
       "  </thead>\n",
       "  <tbody>\n",
       "    <tr>\n",
       "      <th>logistic_regression</th>\n",
       "      <td>0.776+-0.049</td>\n",
       "      <td>0.78+-0.035</td>\n",
       "      <td>0.758+-0.061</td>\n",
       "      <td>0.627+-0.054</td>\n",
       "      <td>0.72+-0.053</td>\n",
       "      <td>0.719+-0.095</td>\n",
       "      <td>0.727+-0.053</td>\n",
       "      <td>0.639+-0.064</td>\n",
       "    </tr>\n",
       "    <tr>\n",
       "      <th>random_forest</th>\n",
       "      <td>0.771+-0.041</td>\n",
       "      <td>0.794+-0.032</td>\n",
       "      <td>0.609+-0.052</td>\n",
       "      <td>0.627+-0.066</td>\n",
       "      <td>0.695+-0.091</td>\n",
       "      <td>0.769+-0.094</td>\n",
       "      <td>0.62+-0.064</td>\n",
       "      <td>0.637+-0.083</td>\n",
       "    </tr>\n",
       "    <tr>\n",
       "      <th>svm</th>\n",
       "      <td>0.782+-0.028</td>\n",
       "      <td>0.79+-0.025</td>\n",
       "      <td>0.612+-0.03</td>\n",
       "      <td>0.619+-0.046</td>\n",
       "      <td>0.742+-0.099</td>\n",
       "      <td>0.76+-0.091</td>\n",
       "      <td>0.625+-0.039</td>\n",
       "      <td>0.631+-0.056</td>\n",
       "    </tr>\n",
       "  </tbody>\n",
       "</table>\n",
       "</div>"
      ],
      "text/plain": [
       "Metric                   accuracy                      recall                \\\n",
       "dataset                Gene-based Pattern-based    Gene-based Pattern-based   \n",
       "classifier                                                                    \n",
       "logistic_regression  0.776+-0.049   0.78+-0.035  0.758+-0.061  0.627+-0.054   \n",
       "random_forest        0.771+-0.041  0.794+-0.032  0.609+-0.052  0.627+-0.066   \n",
       "svm                  0.782+-0.028   0.79+-0.025   0.612+-0.03  0.619+-0.046   \n",
       "\n",
       "Metric                  precision                    f1_score                \n",
       "dataset                Gene-based Pattern-based    Gene-based Pattern-based  \n",
       "classifier                                                                   \n",
       "logistic_regression   0.72+-0.053  0.719+-0.095  0.727+-0.053  0.639+-0.064  \n",
       "random_forest        0.695+-0.091  0.769+-0.094   0.62+-0.064  0.637+-0.083  \n",
       "svm                  0.742+-0.099   0.76+-0.091  0.625+-0.039  0.631+-0.056  "
      ]
     },
     "metadata": {},
     "output_type": "display_data"
    }
   ],
   "source": [
    "results_show2 = results.drop(columns=[\"shape\"])\n",
    "results_show2 = results_show2.groupby(['dataset', 'classifier', 'Metric'], as_index=False).agg({'Score':['mean','std'],})\n",
    "results_show2.columns = ['_'.join(col) if col[1] !='' else col[0] for col in results_show2.columns]\n",
    "results_show2 = results_show2.round(decimals=3)\n",
    "results_show2[\"Score\"] = results_show2[\"Score_mean\"].astype(\"str\") + \"+-\" + results_show2[\"Score_std\"].astype(str)\n",
    "results_show2 = results_show2.drop(columns=[\"Score_mean\", \"Score_std\"])\n",
    "results_show2 = results_show2.pivot(index=['classifier'], columns=['Metric', 'dataset'], values='Score')\n",
    "results_show2 = results_show2[['accuracy', 'recall', 'precision', 'f1_score']]\n",
    "display(results_show2)"
   ]
  },
  {
   "attachments": {},
   "cell_type": "markdown",
   "metadata": {},
   "source": [
    "## TCGA-COAD\n"
   ]
  },
  {
   "cell_type": "markdown",
   "metadata": {},
   "source": [
    "#### miRNA\n"
   ]
  },
  {
   "cell_type": "markdown",
   "metadata": {},
   "source": [
    "Obtain results"
   ]
  },
  {
   "cell_type": "code",
   "execution_count": 10,
   "metadata": {},
   "outputs": [
    {
     "name": "stdout",
     "output_type": "stream",
     "text": [
      "No file with values to replace. Continuing.\n",
      "No file with values to replace. Continuing.\n",
      "pre-transformation pattern data shape:  (442, 293)\n",
      "Pattern dimensions:  [62, 49, 44, 62, 50, 48, 33, 42, 39, 35] Mean:  46.4\n",
      "DGE dimensions:  [294, 294, 291, 291, 293, 290, 291, 291, 293, 291] Mean:  291.9\n",
      "45.4 291.9\n",
      "         dataset  dimensions\n",
      "0     Gene-based       291.9\n",
      "1  Pattern-based        45.4\n"
     ]
    }
   ],
   "source": [
    "project, layer = \"TCGA-COAD\", \"mirna\"\n",
    "# create LayerDataset for layer miRNA of project TCGA-LGG\n",
    "dataset = LayerDataset(DATA_DIR, project, layer)\n",
    "# set p-value to 1 so that there is no DEG filtering\n",
    "pvalue = 1\n",
    "\n",
    "parameterization = bicpy.add_default_parameterization(params, default_param)\n",
    "results, dimensionalities = prediction_results(dataset, target, pvalue, classifier_list, metric_list, parameterization, \n",
    "                                normalization, n_folds, filtering,  filter_by, balancing, \n",
    "                                'norm_euclidean', verbose=1)\n",
    "print(dimensionalities)"
   ]
  },
  {
   "cell_type": "markdown",
   "metadata": {},
   "source": [
    "Transform result table for display"
   ]
  },
  {
   "cell_type": "code",
   "execution_count": 11,
   "metadata": {},
   "outputs": [
    {
     "data": {
      "text/html": [
       "<div>\n",
       "<style scoped>\n",
       "    .dataframe tbody tr th:only-of-type {\n",
       "        vertical-align: middle;\n",
       "    }\n",
       "\n",
       "    .dataframe tbody tr th {\n",
       "        vertical-align: top;\n",
       "    }\n",
       "\n",
       "    .dataframe thead tr th {\n",
       "        text-align: left;\n",
       "    }\n",
       "\n",
       "    .dataframe thead tr:last-of-type th {\n",
       "        text-align: right;\n",
       "    }\n",
       "</style>\n",
       "<table border=\"1\" class=\"dataframe\">\n",
       "  <thead>\n",
       "    <tr>\n",
       "      <th>Metric</th>\n",
       "      <th colspan=\"2\" halign=\"left\">accuracy</th>\n",
       "      <th colspan=\"2\" halign=\"left\">recall</th>\n",
       "      <th colspan=\"2\" halign=\"left\">precision</th>\n",
       "      <th colspan=\"2\" halign=\"left\">f1_score</th>\n",
       "    </tr>\n",
       "    <tr>\n",
       "      <th>dataset</th>\n",
       "      <th>Gene-based</th>\n",
       "      <th>Pattern-based</th>\n",
       "      <th>Gene-based</th>\n",
       "      <th>Pattern-based</th>\n",
       "      <th>Gene-based</th>\n",
       "      <th>Pattern-based</th>\n",
       "      <th>Gene-based</th>\n",
       "      <th>Pattern-based</th>\n",
       "    </tr>\n",
       "    <tr>\n",
       "      <th>classifier</th>\n",
       "      <th></th>\n",
       "      <th></th>\n",
       "      <th></th>\n",
       "      <th></th>\n",
       "      <th></th>\n",
       "      <th></th>\n",
       "      <th></th>\n",
       "      <th></th>\n",
       "    </tr>\n",
       "  </thead>\n",
       "  <tbody>\n",
       "    <tr>\n",
       "      <th>logistic_regression</th>\n",
       "      <td>0.679+-0.042</td>\n",
       "      <td>0.751+-0.035</td>\n",
       "      <td>0.542+-0.064</td>\n",
       "      <td>0.504+-0.03</td>\n",
       "      <td>0.537+-0.064</td>\n",
       "      <td>0.491+-0.123</td>\n",
       "      <td>0.537+-0.064</td>\n",
       "      <td>0.468+-0.046</td>\n",
       "    </tr>\n",
       "    <tr>\n",
       "      <th>random_forest</th>\n",
       "      <td>0.774+-0.014</td>\n",
       "      <td>0.774+-0.013</td>\n",
       "      <td>0.509+-0.022</td>\n",
       "      <td>0.512+-0.031</td>\n",
       "      <td>0.487+-0.215</td>\n",
       "      <td>0.471+-0.185</td>\n",
       "      <td>0.454+-0.041</td>\n",
       "      <td>0.46+-0.056</td>\n",
       "    </tr>\n",
       "    <tr>\n",
       "      <th>svm</th>\n",
       "      <td>0.772+-0.006</td>\n",
       "      <td>0.772+-0.006</td>\n",
       "      <td>0.5+-0.0</td>\n",
       "      <td>0.5+-0.0</td>\n",
       "      <td>0.386+-0.003</td>\n",
       "      <td>0.386+-0.003</td>\n",
       "      <td>0.436+-0.002</td>\n",
       "      <td>0.436+-0.002</td>\n",
       "    </tr>\n",
       "  </tbody>\n",
       "</table>\n",
       "</div>"
      ],
      "text/plain": [
       "Metric                   accuracy                      recall                \\\n",
       "dataset                Gene-based Pattern-based    Gene-based Pattern-based   \n",
       "classifier                                                                    \n",
       "logistic_regression  0.679+-0.042  0.751+-0.035  0.542+-0.064   0.504+-0.03   \n",
       "random_forest        0.774+-0.014  0.774+-0.013  0.509+-0.022  0.512+-0.031   \n",
       "svm                  0.772+-0.006  0.772+-0.006      0.5+-0.0      0.5+-0.0   \n",
       "\n",
       "Metric                  precision                    f1_score                \n",
       "dataset                Gene-based Pattern-based    Gene-based Pattern-based  \n",
       "classifier                                                                   \n",
       "logistic_regression  0.537+-0.064  0.491+-0.123  0.537+-0.064  0.468+-0.046  \n",
       "random_forest        0.487+-0.215  0.471+-0.185  0.454+-0.041   0.46+-0.056  \n",
       "svm                  0.386+-0.003  0.386+-0.003  0.436+-0.002  0.436+-0.002  "
      ]
     },
     "metadata": {},
     "output_type": "display_data"
    }
   ],
   "source": [
    "results_show2 = results.drop(columns=[\"shape\"])\n",
    "results_show2 = results_show2.groupby(['dataset', 'classifier', 'Metric'], as_index=False).agg({'Score':['mean','std'],})\n",
    "results_show2.columns = ['_'.join(col) if col[1] !='' else col[0] for col in results_show2.columns]\n",
    "results_show2 = results_show2.round(decimals=3)\n",
    "results_show2[\"Score\"] = results_show2[\"Score_mean\"].astype(\"str\") + \"+-\" + results_show2[\"Score_std\"].astype(str)\n",
    "results_show2 = results_show2.drop(columns=[\"Score_mean\", \"Score_std\"])\n",
    "results_show2 = results_show2.pivot(index=['classifier'], columns=['Metric', 'dataset'], values='Score')\n",
    "results_show2 = results_show2[['accuracy', 'recall', 'precision', 'f1_score']]\n",
    "display(results_show2)"
   ]
  },
  {
   "attachments": {},
   "cell_type": "markdown",
   "metadata": {},
   "source": [
    "#### protein\n"
   ]
  },
  {
   "cell_type": "markdown",
   "metadata": {},
   "source": [
    "Obtain results"
   ]
  },
  {
   "cell_type": "code",
   "execution_count": 12,
   "metadata": {},
   "outputs": [
    {
     "name": "stdout",
     "output_type": "stream",
     "text": [
      "No file with values to replace. Continuing.\n",
      "pre-transformation pattern data shape:  (347, 456)\n",
      "Pattern dimensions:  [24, 34, 26, 38, 25, 39, 26, 44, 30, 32] Mean:  31.8\n",
      "30.8 455\n",
      "         dataset  dimensions\n",
      "0     Gene-based       455.0\n",
      "1  Pattern-based        30.8\n"
     ]
    }
   ],
   "source": [
    "project, layer = \"TCGA-COAD\", \"protein\"\n",
    "# create LayerDataset for layer miRNA of project TCGA-LGG\n",
    "dataset = LayerDataset(DATA_DIR, project, layer)\n",
    "# set p-value to 1 so that there is no DEG filtering\n",
    "pvalue = 1\n",
    "\n",
    "parameterization = bicpy.add_default_parameterization(params, default_param)\n",
    "results, dimensionalities = prediction_results(dataset, target, pvalue, classifier_list, metric_list, parameterization, \n",
    "                                normalization, n_folds, filtering,  filter_by, balancing, \n",
    "                                'norm_euclidean', verbose=1)\n",
    "print(dimensionalities)"
   ]
  },
  {
   "cell_type": "markdown",
   "metadata": {},
   "source": [
    "Transform result table for display"
   ]
  },
  {
   "cell_type": "code",
   "execution_count": 13,
   "metadata": {},
   "outputs": [
    {
     "data": {
      "text/html": [
       "<div>\n",
       "<style scoped>\n",
       "    .dataframe tbody tr th:only-of-type {\n",
       "        vertical-align: middle;\n",
       "    }\n",
       "\n",
       "    .dataframe tbody tr th {\n",
       "        vertical-align: top;\n",
       "    }\n",
       "\n",
       "    .dataframe thead tr th {\n",
       "        text-align: left;\n",
       "    }\n",
       "\n",
       "    .dataframe thead tr:last-of-type th {\n",
       "        text-align: right;\n",
       "    }\n",
       "</style>\n",
       "<table border=\"1\" class=\"dataframe\">\n",
       "  <thead>\n",
       "    <tr>\n",
       "      <th>Metric</th>\n",
       "      <th colspan=\"2\" halign=\"left\">accuracy</th>\n",
       "      <th colspan=\"2\" halign=\"left\">recall</th>\n",
       "      <th colspan=\"2\" halign=\"left\">precision</th>\n",
       "      <th colspan=\"2\" halign=\"left\">f1_score</th>\n",
       "    </tr>\n",
       "    <tr>\n",
       "      <th>dataset</th>\n",
       "      <th>Gene-based</th>\n",
       "      <th>Pattern-based</th>\n",
       "      <th>Gene-based</th>\n",
       "      <th>Pattern-based</th>\n",
       "      <th>Gene-based</th>\n",
       "      <th>Pattern-based</th>\n",
       "      <th>Gene-based</th>\n",
       "      <th>Pattern-based</th>\n",
       "    </tr>\n",
       "    <tr>\n",
       "      <th>classifier</th>\n",
       "      <th></th>\n",
       "      <th></th>\n",
       "      <th></th>\n",
       "      <th></th>\n",
       "      <th></th>\n",
       "      <th></th>\n",
       "      <th></th>\n",
       "      <th></th>\n",
       "    </tr>\n",
       "  </thead>\n",
       "  <tbody>\n",
       "    <tr>\n",
       "      <th>logistic_regression</th>\n",
       "      <td>0.726+-0.066</td>\n",
       "      <td>0.784+-0.033</td>\n",
       "      <td>0.581+-0.076</td>\n",
       "      <td>0.528+-0.052</td>\n",
       "      <td>0.601+-0.088</td>\n",
       "      <td>0.621+-0.252</td>\n",
       "      <td>0.583+-0.076</td>\n",
       "      <td>0.501+-0.078</td>\n",
       "    </tr>\n",
       "    <tr>\n",
       "      <th>random_forest</th>\n",
       "      <td>0.769+-0.014</td>\n",
       "      <td>0.775+-0.031</td>\n",
       "      <td>0.493+-0.013</td>\n",
       "      <td>0.515+-0.035</td>\n",
       "      <td>0.389+-0.005</td>\n",
       "      <td>0.535+-0.213</td>\n",
       "      <td>0.435+-0.005</td>\n",
       "      <td>0.478+-0.059</td>\n",
       "    </tr>\n",
       "    <tr>\n",
       "      <th>svm</th>\n",
       "      <td>0.781+-0.013</td>\n",
       "      <td>0.781+-0.013</td>\n",
       "      <td>0.5+-0.0</td>\n",
       "      <td>0.5+-0.0</td>\n",
       "      <td>0.391+-0.006</td>\n",
       "      <td>0.391+-0.006</td>\n",
       "      <td>0.439+-0.004</td>\n",
       "      <td>0.439+-0.004</td>\n",
       "    </tr>\n",
       "  </tbody>\n",
       "</table>\n",
       "</div>"
      ],
      "text/plain": [
       "Metric                   accuracy                      recall                \\\n",
       "dataset                Gene-based Pattern-based    Gene-based Pattern-based   \n",
       "classifier                                                                    \n",
       "logistic_regression  0.726+-0.066  0.784+-0.033  0.581+-0.076  0.528+-0.052   \n",
       "random_forest        0.769+-0.014  0.775+-0.031  0.493+-0.013  0.515+-0.035   \n",
       "svm                  0.781+-0.013  0.781+-0.013      0.5+-0.0      0.5+-0.0   \n",
       "\n",
       "Metric                  precision                    f1_score                \n",
       "dataset                Gene-based Pattern-based    Gene-based Pattern-based  \n",
       "classifier                                                                   \n",
       "logistic_regression  0.601+-0.088  0.621+-0.252  0.583+-0.076  0.501+-0.078  \n",
       "random_forest        0.389+-0.005  0.535+-0.213  0.435+-0.005  0.478+-0.059  \n",
       "svm                  0.391+-0.006  0.391+-0.006  0.439+-0.004  0.439+-0.004  "
      ]
     },
     "metadata": {},
     "output_type": "display_data"
    }
   ],
   "source": [
    "results_show2 = results.drop(columns=[\"shape\"])\n",
    "results_show2 = results_show2.groupby(['dataset', 'classifier', 'Metric'], as_index=False).agg({'Score':['mean','std'],})\n",
    "results_show2.columns = ['_'.join(col) if col[1] !='' else col[0] for col in results_show2.columns]\n",
    "results_show2 = results_show2.round(decimals=3)\n",
    "results_show2[\"Score\"] = results_show2[\"Score_mean\"].astype(\"str\") + \"+-\" + results_show2[\"Score_std\"].astype(str)\n",
    "results_show2 = results_show2.drop(columns=[\"Score_mean\", \"Score_std\"])\n",
    "results_show2 = results_show2.pivot(index=['classifier'], columns=['Metric', 'dataset'], values='Score')\n",
    "results_show2 = results_show2[['accuracy', 'recall', 'precision', 'f1_score']]\n",
    "display(results_show2)"
   ]
  },
  {
   "attachments": {},
   "cell_type": "markdown",
   "metadata": {},
   "source": [
    "#### mRNA\n"
   ]
  },
  {
   "cell_type": "markdown",
   "metadata": {},
   "source": [
    "Obtain results"
   ]
  },
  {
   "cell_type": "code",
   "execution_count": 14,
   "metadata": {},
   "outputs": [
    {
     "name": "stdout",
     "output_type": "stream",
     "text": [
      "No file with values to replace. Continuing.\n",
      "No file with values to replace. Continuing.\n",
      "pre-transformation pattern data shape:  (456, 21541)\n",
      "Pattern dimensions:  [37, 40, 62, 42, 48, 32, 45, 34, 31, 43] Mean:  41.4\n",
      "DGE dimensions:  [21490, 21546, 21537, 21529, 21613, 21632, 21466, 21451, 21424, 21536] Mean:  21522.4\n",
      "40.4 21522.4\n",
      "         dataset  dimensions\n",
      "0     Gene-based     21522.4\n",
      "1  Pattern-based        40.4\n"
     ]
    }
   ],
   "source": [
    "project, layer = \"TCGA-COAD\", \"mrna\"\n",
    "# create LayerDataset for layer miRNA of project TCGA-LGG\n",
    "dataset = LayerDataset(DATA_DIR, project, layer)\n",
    "# set p-value to 1 so that there is no DEG filtering\n",
    "pvalue = 1\n",
    "\n",
    "parameterization = bicpy.add_default_parameterization(params, default_param)\n",
    "results, dimensionalities = prediction_results(dataset, target, pvalue, classifier_list, metric_list, parameterization, \n",
    "                                normalization, n_folds, filtering,  filter_by, balancing, \n",
    "                                'norm_euclidean', verbose=1)\n",
    "print(dimensionalities)"
   ]
  },
  {
   "cell_type": "markdown",
   "metadata": {},
   "source": [
    "Transform result table for display"
   ]
  },
  {
   "cell_type": "code",
   "execution_count": 15,
   "metadata": {},
   "outputs": [
    {
     "data": {
      "text/html": [
       "<div>\n",
       "<style scoped>\n",
       "    .dataframe tbody tr th:only-of-type {\n",
       "        vertical-align: middle;\n",
       "    }\n",
       "\n",
       "    .dataframe tbody tr th {\n",
       "        vertical-align: top;\n",
       "    }\n",
       "\n",
       "    .dataframe thead tr th {\n",
       "        text-align: left;\n",
       "    }\n",
       "\n",
       "    .dataframe thead tr:last-of-type th {\n",
       "        text-align: right;\n",
       "    }\n",
       "</style>\n",
       "<table border=\"1\" class=\"dataframe\">\n",
       "  <thead>\n",
       "    <tr>\n",
       "      <th>Metric</th>\n",
       "      <th colspan=\"2\" halign=\"left\">accuracy</th>\n",
       "      <th colspan=\"2\" halign=\"left\">recall</th>\n",
       "      <th colspan=\"2\" halign=\"left\">precision</th>\n",
       "      <th colspan=\"2\" halign=\"left\">f1_score</th>\n",
       "    </tr>\n",
       "    <tr>\n",
       "      <th>dataset</th>\n",
       "      <th>Gene-based</th>\n",
       "      <th>Pattern-based</th>\n",
       "      <th>Gene-based</th>\n",
       "      <th>Pattern-based</th>\n",
       "      <th>Gene-based</th>\n",
       "      <th>Pattern-based</th>\n",
       "      <th>Gene-based</th>\n",
       "      <th>Pattern-based</th>\n",
       "    </tr>\n",
       "    <tr>\n",
       "      <th>classifier</th>\n",
       "      <th></th>\n",
       "      <th></th>\n",
       "      <th></th>\n",
       "      <th></th>\n",
       "      <th></th>\n",
       "      <th></th>\n",
       "      <th></th>\n",
       "      <th></th>\n",
       "    </tr>\n",
       "  </thead>\n",
       "  <tbody>\n",
       "    <tr>\n",
       "      <th>logistic_regression</th>\n",
       "      <td>0.627+-0.061</td>\n",
       "      <td>0.759+-0.042</td>\n",
       "      <td>0.603+-0.055</td>\n",
       "      <td>0.519+-0.051</td>\n",
       "      <td>0.577+-0.045</td>\n",
       "      <td>0.581+-0.228</td>\n",
       "      <td>0.566+-0.056</td>\n",
       "      <td>0.494+-0.075</td>\n",
       "    </tr>\n",
       "    <tr>\n",
       "      <th>random_forest</th>\n",
       "      <td>0.759+-0.019</td>\n",
       "      <td>0.772+-0.011</td>\n",
       "      <td>0.495+-0.023</td>\n",
       "      <td>0.497+-0.006</td>\n",
       "      <td>0.437+-0.107</td>\n",
       "      <td>0.388+-0.004</td>\n",
       "      <td>0.447+-0.036</td>\n",
       "      <td>0.436+-0.003</td>\n",
       "    </tr>\n",
       "    <tr>\n",
       "      <th>svm</th>\n",
       "      <td>0.776+-0.008</td>\n",
       "      <td>0.776+-0.008</td>\n",
       "      <td>0.5+-0.0</td>\n",
       "      <td>0.5+-0.0</td>\n",
       "      <td>0.388+-0.004</td>\n",
       "      <td>0.388+-0.004</td>\n",
       "      <td>0.437+-0.003</td>\n",
       "      <td>0.437+-0.003</td>\n",
       "    </tr>\n",
       "  </tbody>\n",
       "</table>\n",
       "</div>"
      ],
      "text/plain": [
       "Metric                   accuracy                      recall                \\\n",
       "dataset                Gene-based Pattern-based    Gene-based Pattern-based   \n",
       "classifier                                                                    \n",
       "logistic_regression  0.627+-0.061  0.759+-0.042  0.603+-0.055  0.519+-0.051   \n",
       "random_forest        0.759+-0.019  0.772+-0.011  0.495+-0.023  0.497+-0.006   \n",
       "svm                  0.776+-0.008  0.776+-0.008      0.5+-0.0      0.5+-0.0   \n",
       "\n",
       "Metric                  precision                    f1_score                \n",
       "dataset                Gene-based Pattern-based    Gene-based Pattern-based  \n",
       "classifier                                                                   \n",
       "logistic_regression  0.577+-0.045  0.581+-0.228  0.566+-0.056  0.494+-0.075  \n",
       "random_forest        0.437+-0.107  0.388+-0.004  0.447+-0.036  0.436+-0.003  \n",
       "svm                  0.388+-0.004  0.388+-0.004  0.437+-0.003  0.437+-0.003  "
      ]
     },
     "metadata": {},
     "output_type": "display_data"
    }
   ],
   "source": [
    "results_show2 = results.drop(columns=[\"shape\"])\n",
    "results_show2 = results_show2.groupby(['dataset', 'classifier', 'Metric'], as_index=False).agg({'Score':['mean','std'],})\n",
    "results_show2.columns = ['_'.join(col) if col[1] !='' else col[0] for col in results_show2.columns]\n",
    "results_show2 = results_show2.round(decimals=3)\n",
    "results_show2[\"Score\"] = results_show2[\"Score_mean\"].astype(\"str\") + \"+-\" + results_show2[\"Score_std\"].astype(str)\n",
    "results_show2 = results_show2.drop(columns=[\"Score_mean\", \"Score_std\"])\n",
    "results_show2 = results_show2.pivot(index=['classifier'], columns=['Metric', 'dataset'], values='Score')\n",
    "results_show2 = results_show2[['accuracy', 'recall', 'precision', 'f1_score']]\n",
    "display(results_show2)"
   ]
  }
 ],
 "metadata": {
  "kernelspec": {
   "display_name": "pattern_centric",
   "language": "python",
   "name": "python3"
  },
  "language_info": {
   "codemirror_mode": {
    "name": "ipython",
    "version": 3
   },
   "file_extension": ".py",
   "mimetype": "text/x-python",
   "name": "python",
   "nbconvert_exporter": "python",
   "pygments_lexer": "ipython3",
   "version": "3.11.3"
  },
  "orig_nbformat": 4,
  "vscode": {
   "interpreter": {
    "hash": "a7038e48d00a257423e5069e9953a698242f0a15856502769418e7bc553cbba5"
   }
  }
 },
 "nbformat": 4,
 "nbformat_minor": 2
}
